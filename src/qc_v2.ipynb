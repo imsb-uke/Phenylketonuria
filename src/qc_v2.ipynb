{
 "cells": [
  {
   "cell_type": "code",
   "execution_count": 1,
   "id": "68327acb-7ace-41c6-b727-1c57644e0918",
   "metadata": {},
   "outputs": [],
   "source": [
    "import os\n",
    "import pandas as pd\n",
    "import numpy as np\n",
    "from scipy.ndimage import maximum_filter\n",
    "from tqdm import tqdm\n",
    "from scipy.optimize import curve_fit\n",
    "from Utilities import *"
   ]
  },
  {
   "cell_type": "code",
   "execution_count": 23,
   "id": "10a5382c-846e-4ba0-89b6-b8dcb1343897",
   "metadata": {},
   "outputs": [],
   "source": [
    "import matplotlib.pyplot as plt\n",
    "import seaborn as sns\n",
    "sns.set(style=\"ticks\", font_scale=1.2)"
   ]
  },
  {
   "cell_type": "code",
   "execution_count": 2,
   "id": "3d9a6f75-dc57-49a3-b596-411d07cd61d6",
   "metadata": {},
   "outputs": [
    {
     "name": "stderr",
     "output_type": "stream",
     "text": [
      "100%|███████████████████████████████████████████| 25/25 [00:22<00:00,  1.09it/s]\n"
     ]
    }
   ],
   "source": [
    "dir = \"../Data/experiments_all/\"\n",
    "dict_data = read_experiments(dir)"
   ]
  },
  {
   "cell_type": "code",
   "execution_count": 3,
   "id": "b577f2a9-abc3-4596-8f62-6eb2d167edd4",
   "metadata": {},
   "outputs": [
    {
     "data": {
      "text/html": [
       "<div>\n",
       "<style scoped>\n",
       "    .dataframe tbody tr th:only-of-type {\n",
       "        vertical-align: middle;\n",
       "    }\n",
       "\n",
       "    .dataframe tbody tr th {\n",
       "        vertical-align: top;\n",
       "    }\n",
       "\n",
       "    .dataframe thead th {\n",
       "        text-align: right;\n",
       "    }\n",
       "</style>\n",
       "<table border=\"1\" class=\"dataframe\">\n",
       "  <thead>\n",
       "    <tr style=\"text-align: right;\">\n",
       "      <th></th>\n",
       "      <th>0</th>\n",
       "      <th>25</th>\n",
       "      <th>50</th>\n",
       "      <th>75</th>\n",
       "      <th>100</th>\n",
       "      <th>125</th>\n",
       "      <th>150</th>\n",
       "      <th>200</th>\n",
       "      <th>500</th>\n",
       "      <th>750</th>\n",
       "      <th>1250</th>\n",
       "      <th>2500</th>\n",
       "    </tr>\n",
       "  </thead>\n",
       "  <tbody>\n",
       "    <tr>\n",
       "      <th>0</th>\n",
       "      <td>-41.748793</td>\n",
       "      <td>-2.396218</td>\n",
       "      <td>-12.395689</td>\n",
       "      <td>0.227104</td>\n",
       "      <td>-40.975510</td>\n",
       "      <td>9.757237</td>\n",
       "      <td>34.277525</td>\n",
       "      <td>47.043641</td>\n",
       "      <td>39.103387</td>\n",
       "      <td>8.076277</td>\n",
       "      <td>64.058514</td>\n",
       "      <td>27.177879</td>\n",
       "    </tr>\n",
       "    <tr>\n",
       "      <th>10</th>\n",
       "      <td>-30.903269</td>\n",
       "      <td>214.463620</td>\n",
       "      <td>1063.364100</td>\n",
       "      <td>2639.395897</td>\n",
       "      <td>3155.406608</td>\n",
       "      <td>3183.896789</td>\n",
       "      <td>3260.268547</td>\n",
       "      <td>3614.605484</td>\n",
       "      <td>3663.131702</td>\n",
       "      <td>3583.826470</td>\n",
       "      <td>3027.307793</td>\n",
       "      <td>2161.972510</td>\n",
       "    </tr>\n",
       "    <tr>\n",
       "      <th>25</th>\n",
       "      <td>32.368987</td>\n",
       "      <td>242.395282</td>\n",
       "      <td>1459.159167</td>\n",
       "      <td>3680.108717</td>\n",
       "      <td>5117.773715</td>\n",
       "      <td>6776.170193</td>\n",
       "      <td>6952.875449</td>\n",
       "      <td>7724.788205</td>\n",
       "      <td>7020.096710</td>\n",
       "      <td>6779.041914</td>\n",
       "      <td>5472.439101</td>\n",
       "      <td>3205.735114</td>\n",
       "    </tr>\n",
       "    <tr>\n",
       "      <th>50</th>\n",
       "      <td>-39.339185</td>\n",
       "      <td>291.325200</td>\n",
       "      <td>1571.175090</td>\n",
       "      <td>4167.982668</td>\n",
       "      <td>5849.031318</td>\n",
       "      <td>5749.380089</td>\n",
       "      <td>8072.745198</td>\n",
       "      <td>9921.218589</td>\n",
       "      <td>8994.994142</td>\n",
       "      <td>8220.522614</td>\n",
       "      <td>5838.158926</td>\n",
       "      <td>3535.985029</td>\n",
       "    </tr>\n",
       "    <tr>\n",
       "      <th>75</th>\n",
       "      <td>-1.339877</td>\n",
       "      <td>304.615626</td>\n",
       "      <td>1651.218462</td>\n",
       "      <td>4396.871595</td>\n",
       "      <td>6705.762996</td>\n",
       "      <td>7524.631680</td>\n",
       "      <td>7500.794330</td>\n",
       "      <td>10415.480250</td>\n",
       "      <td>9734.821773</td>\n",
       "      <td>8108.809325</td>\n",
       "      <td>6089.261114</td>\n",
       "      <td>3414.041094</td>\n",
       "    </tr>\n",
       "    <tr>\n",
       "      <th>100</th>\n",
       "      <td>-68.339783</td>\n",
       "      <td>324.854415</td>\n",
       "      <td>1653.286303</td>\n",
       "      <td>4014.323144</td>\n",
       "      <td>6268.261715</td>\n",
       "      <td>7428.535962</td>\n",
       "      <td>8475.062467</td>\n",
       "      <td>10963.721140</td>\n",
       "      <td>10056.060242</td>\n",
       "      <td>8706.300858</td>\n",
       "      <td>5925.495217</td>\n",
       "      <td>3704.636769</td>\n",
       "    </tr>\n",
       "    <tr>\n",
       "      <th>150</th>\n",
       "      <td>11.235571</td>\n",
       "      <td>357.123787</td>\n",
       "      <td>1490.078941</td>\n",
       "      <td>4202.457134</td>\n",
       "      <td>6415.444792</td>\n",
       "      <td>7749.330909</td>\n",
       "      <td>8946.980958</td>\n",
       "      <td>10408.443872</td>\n",
       "      <td>10901.566905</td>\n",
       "      <td>8300.153522</td>\n",
       "      <td>6039.397530</td>\n",
       "      <td>3145.826817</td>\n",
       "    </tr>\n",
       "    <tr>\n",
       "      <th>250</th>\n",
       "      <td>0.637031</td>\n",
       "      <td>289.261939</td>\n",
       "      <td>1568.012399</td>\n",
       "      <td>4008.260143</td>\n",
       "      <td>5995.944801</td>\n",
       "      <td>7239.194038</td>\n",
       "      <td>8085.075959</td>\n",
       "      <td>9811.893045</td>\n",
       "      <td>8088.902340</td>\n",
       "      <td>6394.427660</td>\n",
       "      <td>5177.712678</td>\n",
       "      <td>2473.586046</td>\n",
       "    </tr>\n",
       "  </tbody>\n",
       "</table>\n",
       "</div>"
      ],
      "text/plain": [
       "          0           25           50           75           100   \\\n",
       "0   -41.748793   -2.396218   -12.395689     0.227104   -40.975510   \n",
       "10  -30.903269  214.463620  1063.364100  2639.395897  3155.406608   \n",
       "25   32.368987  242.395282  1459.159167  3680.108717  5117.773715   \n",
       "50  -39.339185  291.325200  1571.175090  4167.982668  5849.031318   \n",
       "75   -1.339877  304.615626  1651.218462  4396.871595  6705.762996   \n",
       "100 -68.339783  324.854415  1653.286303  4014.323144  6268.261715   \n",
       "150  11.235571  357.123787  1490.078941  4202.457134  6415.444792   \n",
       "250   0.637031  289.261939  1568.012399  4008.260143  5995.944801   \n",
       "\n",
       "            125          150           200           500          750   \\\n",
       "0       9.757237    34.277525     47.043641     39.103387     8.076277   \n",
       "10   3183.896789  3260.268547   3614.605484   3663.131702  3583.826470   \n",
       "25   6776.170193  6952.875449   7724.788205   7020.096710  6779.041914   \n",
       "50   5749.380089  8072.745198   9921.218589   8994.994142  8220.522614   \n",
       "75   7524.631680  7500.794330  10415.480250   9734.821773  8108.809325   \n",
       "100  7428.535962  8475.062467  10963.721140  10056.060242  8706.300858   \n",
       "150  7749.330909  8946.980958  10408.443872  10901.566905  8300.153522   \n",
       "250  7239.194038  8085.075959   9811.893045   8088.902340  6394.427660   \n",
       "\n",
       "            1250         2500  \n",
       "0      64.058514    27.177879  \n",
       "10   3027.307793  2161.972510  \n",
       "25   5472.439101  3205.735114  \n",
       "50   5838.158926  3535.985029  \n",
       "75   6089.261114  3414.041094  \n",
       "100  5925.495217  3704.636769  \n",
       "150  6039.397530  3145.826817  \n",
       "250  5177.712678  2473.586046  "
      ]
     },
     "execution_count": 3,
     "metadata": {},
     "output_type": "execute_result"
    }
   ],
   "source": [
    "dict_data['REP9']['WT'][0]"
   ]
  },
  {
   "cell_type": "code",
   "execution_count": 5,
   "id": "f0a79307-12d2-4f83-b94c-3aa8841ad810",
   "metadata": {},
   "outputs": [],
   "source": [
    "def reshape(a):\n",
    "    a = np.array(a, dtype=float)\n",
    "    a[a<0]=0\n",
    "    return np.log(a+1).reshape(-1,1)"
   ]
  },
  {
   "cell_type": "code",
   "execution_count": 28,
   "id": "9bf07523-e20c-4f44-a5a3-c94ede67c448",
   "metadata": {},
   "outputs": [
    {
     "name": "stderr",
     "output_type": "stream",
     "text": [
      "100%|███████████████████████████████████████████| 25/25 [00:00<00:00, 56.76it/s]\n"
     ]
    }
   ],
   "source": [
    "feature = pd.DataFrame(columns=['genotype', 'experiment', 'var1', 'var2'])\n",
    "\n",
    "for exp in tqdm(dict_data.keys()):\n",
    "    variants = dict_data[exp]\n",
    "    \n",
    "    WT_av = variants['WT'][3]\n",
    "    max_wt = np.around(WT_av.max().max(), decimals=2) # maximum value of WT to be used for rescaling\n",
    "    \n",
    "    for var in variants.keys():\n",
    "        e1, e2, e3, _ = variants[var]\n",
    "        e1, e2, e3 = reshape(e1/max_wt), reshape(e2/max_wt), reshape(e3/max_wt)\n",
    "        exp = np.concatenate([e1, e2, e3], axis=1)\n",
    "\n",
    "        median = np.median(exp, axis=1)\n",
    "        max = median = np.max(exp, axis=1)\n",
    "        min = median = np.min(exp, axis=1)\n",
    "        range = np.ptp(exp, axis=1)\n",
    "        variation1 = range / (median + 1)\n",
    "        variation2 = (max - median) / (median - min + 1)\n",
    "\n",
    "        feature.loc[len(feature)] = [var, exp, variation1.mean(), variation2.mean()]\n",
    "        "
   ]
  },
  {
   "cell_type": "code",
   "execution_count": 30,
   "id": "14c1f1b6-bcc4-4825-9383-372459f60c26",
   "metadata": {},
   "outputs": [
    {
     "data": {
      "text/html": [
       "<div>\n",
       "<style scoped>\n",
       "    .dataframe tbody tr th:only-of-type {\n",
       "        vertical-align: middle;\n",
       "    }\n",
       "\n",
       "    .dataframe tbody tr th {\n",
       "        vertical-align: top;\n",
       "    }\n",
       "\n",
       "    .dataframe thead th {\n",
       "        text-align: right;\n",
       "    }\n",
       "</style>\n",
       "<table border=\"1\" class=\"dataframe\">\n",
       "  <thead>\n",
       "    <tr style=\"text-align: right;\">\n",
       "      <th></th>\n",
       "      <th>genotype</th>\n",
       "      <th>experiment</th>\n",
       "      <th>var1</th>\n",
       "      <th>var2</th>\n",
       "    </tr>\n",
       "  </thead>\n",
       "  <tbody>\n",
       "    <tr>\n",
       "      <th>0</th>\n",
       "      <td>WT</td>\n",
       "      <td>[[0.0, 0.0, 0.0], [0.0, 0.0, 0.0], [0.0, 0.0, ...</td>\n",
       "      <td>0.019167</td>\n",
       "      <td>0.027440</td>\n",
       "    </tr>\n",
       "    <tr>\n",
       "      <th>1</th>\n",
       "      <td>A403V-A403V</td>\n",
       "      <td>[[0.0, 0.0, 0.0], [0.0, 0.0, 0.0], [0.00069806...</td>\n",
       "      <td>0.017029</td>\n",
       "      <td>0.018583</td>\n",
       "    </tr>\n",
       "    <tr>\n",
       "      <th>2</th>\n",
       "      <td>A403V-R408W</td>\n",
       "      <td>[[0.0, 0.0, 0.0], [0.0, 0.0, 0.0], [0.0, 0.0, ...</td>\n",
       "      <td>0.009336</td>\n",
       "      <td>0.009542</td>\n",
       "    </tr>\n",
       "    <tr>\n",
       "      <th>3</th>\n",
       "      <td>I65T-R408W</td>\n",
       "      <td>[[0.0, 0.0, 0.0], [0.0, 0.012545556150356935, ...</td>\n",
       "      <td>0.016829</td>\n",
       "      <td>0.017226</td>\n",
       "    </tr>\n",
       "    <tr>\n",
       "      <th>4</th>\n",
       "      <td>R158Q-R261Q</td>\n",
       "      <td>[[0.0, 0.0, 0.0], [0.0, 0.0, 0.0], [0.0, 0.0, ...</td>\n",
       "      <td>0.008462</td>\n",
       "      <td>0.008822</td>\n",
       "    </tr>\n",
       "    <tr>\n",
       "      <th>...</th>\n",
       "      <td>...</td>\n",
       "      <td>...</td>\n",
       "      <td>...</td>\n",
       "      <td>...</td>\n",
       "    </tr>\n",
       "    <tr>\n",
       "      <th>155</th>\n",
       "      <td>R158Q-Y414C</td>\n",
       "      <td>[[0.0003964830762713538, 0.0, 0.0], [0.0006471...</td>\n",
       "      <td>0.005360</td>\n",
       "      <td>0.005523</td>\n",
       "    </tr>\n",
       "    <tr>\n",
       "      <th>156</th>\n",
       "      <td>P211T-R408Q</td>\n",
       "      <td>[[0.0, 0.0003748128436627846, 0.0], [0.0, 0.00...</td>\n",
       "      <td>0.016971</td>\n",
       "      <td>0.018463</td>\n",
       "    </tr>\n",
       "    <tr>\n",
       "      <th>157</th>\n",
       "      <td>P225T-P281L</td>\n",
       "      <td>[[0.0, 0.0, 0.0], [0.0015559712526828726, 0.00...</td>\n",
       "      <td>0.003562</td>\n",
       "      <td>0.003577</td>\n",
       "    </tr>\n",
       "    <tr>\n",
       "      <th>158</th>\n",
       "      <td>P281L-A300S</td>\n",
       "      <td>[[0.0011314123123982783, 0.0, 0.00142335789233...</td>\n",
       "      <td>0.007168</td>\n",
       "      <td>0.007361</td>\n",
       "    </tr>\n",
       "    <tr>\n",
       "      <th>159</th>\n",
       "      <td>S16Y-R408W</td>\n",
       "      <td>[[0.0006213451976660625, 0.0001199111359734637...</td>\n",
       "      <td>0.006093</td>\n",
       "      <td>0.006304</td>\n",
       "    </tr>\n",
       "  </tbody>\n",
       "</table>\n",
       "<p>160 rows × 4 columns</p>\n",
       "</div>"
      ],
      "text/plain": [
       "        genotype                                         experiment      var1  \\\n",
       "0             WT  [[0.0, 0.0, 0.0], [0.0, 0.0, 0.0], [0.0, 0.0, ...  0.019167   \n",
       "1    A403V-A403V  [[0.0, 0.0, 0.0], [0.0, 0.0, 0.0], [0.00069806...  0.017029   \n",
       "2    A403V-R408W  [[0.0, 0.0, 0.0], [0.0, 0.0, 0.0], [0.0, 0.0, ...  0.009336   \n",
       "3     I65T-R408W  [[0.0, 0.0, 0.0], [0.0, 0.012545556150356935, ...  0.016829   \n",
       "4    R158Q-R261Q  [[0.0, 0.0, 0.0], [0.0, 0.0, 0.0], [0.0, 0.0, ...  0.008462   \n",
       "..           ...                                                ...       ...   \n",
       "155  R158Q-Y414C  [[0.0003964830762713538, 0.0, 0.0], [0.0006471...  0.005360   \n",
       "156  P211T-R408Q  [[0.0, 0.0003748128436627846, 0.0], [0.0, 0.00...  0.016971   \n",
       "157  P225T-P281L  [[0.0, 0.0, 0.0], [0.0015559712526828726, 0.00...  0.003562   \n",
       "158  P281L-A300S  [[0.0011314123123982783, 0.0, 0.00142335789233...  0.007168   \n",
       "159   S16Y-R408W  [[0.0006213451976660625, 0.0001199111359734637...  0.006093   \n",
       "\n",
       "         var2  \n",
       "0    0.027440  \n",
       "1    0.018583  \n",
       "2    0.009542  \n",
       "3    0.017226  \n",
       "4    0.008822  \n",
       "..        ...  \n",
       "155  0.005523  \n",
       "156  0.018463  \n",
       "157  0.003577  \n",
       "158  0.007361  \n",
       "159  0.006304  \n",
       "\n",
       "[160 rows x 4 columns]"
      ]
     },
     "execution_count": 30,
     "metadata": {},
     "output_type": "execute_result"
    }
   ],
   "source": [
    "feature"
   ]
  },
  {
   "cell_type": "code",
   "execution_count": null,
   "id": "f22ba8a2-11ab-47b3-9611-e114f4f3c568",
   "metadata": {},
   "outputs": [],
   "source": []
  },
  {
   "cell_type": "code",
   "execution_count": 86,
   "id": "746365ff-3c82-4833-8e03-b6aca1c3d779",
   "metadata": {},
   "outputs": [],
   "source": [
    "df_clusters = pd.read_csv(\"extracted_features_v2.csv\", index_col=0)\n",
    "df_clusters.index = df_clusters.index+\"_\"+df_clusters.experiment"
   ]
  },
  {
   "cell_type": "code",
   "execution_count": 87,
   "id": "095ed905-a290-4429-a5a1-8219ece19715",
   "metadata": {},
   "outputs": [],
   "source": [
    "# df_clusters = unique_idx(df_clusters)\n",
    "df_clusters = df_clusters.loc[[idx for idx in df_clusters.index if \"WT\" not in idx]]\n",
    "# \n",
    "# df_clusters.head()"
   ]
  },
  {
   "cell_type": "code",
   "execution_count": 88,
   "id": "f220aa96-61cc-4a57-be1c-c45d074d6f31",
   "metadata": {},
   "outputs": [
    {
     "name": "stdout",
     "output_type": "stream",
     "text": [
      "135\n"
     ]
    }
   ],
   "source": [
    "common = list(set(df_clusters.index.tolist())&set(df.index.tolist()))\n",
    "print(len(common))"
   ]
  },
  {
   "cell_type": "code",
   "execution_count": 89,
   "id": "5372ca33-ab10-4617-89c9-ff75a378ab82",
   "metadata": {},
   "outputs": [],
   "source": [
    "df, df_clusters = df.loc[common], df_clusters.loc[common]"
   ]
  },
  {
   "cell_type": "code",
   "execution_count": 90,
   "id": "21e18d6e-5e72-4cec-a95b-339d9be70973",
   "metadata": {},
   "outputs": [],
   "source": [
    "df[\"rmse\"] = np.sqrt(df_clusters[\"mse\"]).tolist()"
   ]
  },
  {
   "cell_type": "code",
   "execution_count": 117,
   "id": "f4dcbd56-762c-4a5c-849e-e675cabb0c42",
   "metadata": {},
   "outputs": [],
   "source": [
    "rmse_cutoff = .3\n",
    "avg_range_cutoff = .04"
   ]
  },
  {
   "cell_type": "code",
   "execution_count": 118,
   "id": "0ae91491-7172-4e3a-9cf5-4f942638486a",
   "metadata": {},
   "outputs": [],
   "source": [
    "outliers = [idx for idx in df.index if df.loc[idx, \"rmse\"]>rmse_cutoff or df.loc[idx, \"avg_range\"]>avg_range_cutoff]"
   ]
  },
  {
   "cell_type": "code",
   "execution_count": 119,
   "id": "9dc6e012-bd9a-44d1-8507-4fd57d773a2c",
   "metadata": {},
   "outputs": [],
   "source": [
    "from adjustText import adjust_text"
   ]
  },
  {
   "cell_type": "code",
   "execution_count": 120,
   "id": "954c12c6-6180-4837-bf91-520ccbb93b27",
   "metadata": {},
   "outputs": [
    {
     "data": {
      "text/plain": [
       "500"
      ]
     },
     "execution_count": 120,
     "metadata": {},
     "output_type": "execute_result"
    },
    {
     "data": {
      "image/png": "[encoded data removed]",
      "text/plain": [
       "<Figure size 360x360 with 1 Axes>"
      ]
     },
     "metadata": {},
     "output_type": "display_data"
    }
   ],
   "source": [
    "plt.figure(figsize=(5,5))\n",
    "ax=plt.subplot(1,1,1)\n",
    "ax.scatter(df[\"rmse\"], df[\"avg_range\"]), ax.spines[['right', 'top']].set_visible(False)\n",
    "ax.set_xlabel(\"RMSE\"), ax.set_ylabel(\"Average range\")\n",
    "\n",
    "\n",
    "texts=[]\n",
    "for outlier in outliers:\n",
    "    texts.append(ax.text(df.loc[outlier, \"rmse\"], df.loc[outlier, \"avg_range\"], outlier, fontsize=10))\n",
    "adjust_text(texts)"
   ]
  },
  {
   "cell_type": "code",
   "execution_count": 116,
   "id": "61d55c2d-1166-43be-b140-5d3740b7773f",
   "metadata": {},
   "outputs": [],
   "source": [
    "df.to_csv(\"range_by_rmse.csv\")"
   ]
  }
 ],
 "metadata": {
  "kernelspec": {
   "display_name": "Python 3 (ipykernel)",
   "language": "python",
   "name": "python3"
  },
  "language_info": {
   "codemirror_mode": {
    "name": "ipython",
    "version": 3
   },
   "file_extension": ".py",
   "mimetype": "text/x-python",
   "name": "python",
   "nbconvert_exporter": "python",
   "pygments_lexer": "ipython3",
   "version": "3.11.5"
  }
 },
 "nbformat": 4,
 "nbformat_minor": 5
}
