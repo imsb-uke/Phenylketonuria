{
 "cells": [
  {
   "cell_type": "code",
   "execution_count": 31,
   "id": "fafb2e37-a708-423f-bb9c-c7998e7d5ad5",
   "metadata": {},
   "outputs": [],
   "source": [
    "import json"
   ]
  },
  {
   "cell_type": "code",
   "execution_count": 32,
   "id": "d1369f49-b346-4cb4-8d1c-7429cfaa3b44",
   "metadata": {},
   "outputs": [],
   "source": [
    "parameters = {\n",
    "    'save_image2d_dir' : \"gm_output/images2d/\",\n",
    "    'save_image3d_dir' : \"gm_output/images3d/\",\n",
    "    'save_feature_dir' : \"gm_output/features/\",\n",
    "    'tag' : \"\",\n",
    "    \n",
    "    'qc_thr_rmse'      : [0.2, 0.25],\n",
    "    'qc_thr_n_peaks'   : [5, 8],\n",
    "    'qc_thr_variation' : [0.1, 0.25],\n",
    "    \n",
    "    'elev'             : 30,\n",
    "    'azim'             : -120,\n",
    "    'nbins'            : 1000,\n",
    "    'sm_method'        : 'regular_grid',\n",
    "    'rescale'          : True,\n",
    "    'max_val_scale'    : 10000,\n",
    "    \n",
    "    'info_box'         : True,\n",
    "    'max_val'          : True,\n",
    "    'peak_coords'      : True,\n",
    "    'fifty_coords'     : True,\n",
    "\n",
    "    'plot_replicates'  : True\n",
    "}"
   ]
  },
  {
   "cell_type": "code",
   "execution_count": 33,
   "id": "77b3f20a-7713-4d89-ac4d-8d937624c91d",
   "metadata": {},
   "outputs": [],
   "source": [
    "with open(\"../gm_parameters.json\", 'w') as file:\n",
    "    json.dump(parameters, file)"
   ]
  },
  {
   "cell_type": "code",
   "execution_count": 34,
   "id": "28581ce8-6977-4dd7-8d35-58ed82184945",
   "metadata": {},
   "outputs": [
    {
     "data": {
      "text/plain": [
       "{'save_image2d_dir': 'gm_output/images2d/',\n",
       " 'save_image3d_dir': 'gm_output/images3d/',\n",
       " 'save_feature_dir': 'gm_output/features/',\n",
       " 'tag': '',\n",
       " 'qc_thr_rmse': [0.2, 0.25],\n",
       " 'qc_thr_n_peaks': [5, 8],\n",
       " 'qc_thr_variation': [0.1, 0.25],\n",
       " 'elev': 30,\n",
       " 'azim': -120,\n",
       " 'nbins': 1000,\n",
       " 'sm_method': 'regular_grid',\n",
       " 'rescale': True,\n",
       " 'max_val_scale': 10000,\n",
       " 'info_box': True,\n",
       " 'max_val': True,\n",
       " 'peak_coords': True,\n",
       " 'fifty_coords': True,\n",
       " 'plot_replicates': True}"
      ]
     },
     "execution_count": 34,
     "metadata": {},
     "output_type": "execute_result"
    }
   ],
   "source": [
    "with open(\"../gm_parameters.json\", 'r') as file:\n",
    "    p = json.load(file)\n",
    "p"
   ]
  },
  {
   "cell_type": "code",
   "execution_count": null,
   "id": "228804dc-a206-4b8f-9797-6f3abfdf8816",
   "metadata": {},
   "outputs": [],
   "source": []
  }
 ],
 "metadata": {
  "kernelspec": {
   "display_name": "Python 3 (ipykernel)",
   "language": "python",
   "name": "python3"
  },
  "language_info": {
   "codemirror_mode": {
    "name": "ipython",
    "version": 3
   },
   "file_extension": ".py",
   "mimetype": "text/x-python",
   "name": "python",
   "nbconvert_exporter": "python",
   "pygments_lexer": "ipython3",
   "version": "3.11.5"
  }
 },
 "nbformat": 4,
 "nbformat_minor": 5
}
